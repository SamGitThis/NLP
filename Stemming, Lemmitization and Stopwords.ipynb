{
 "cells": [
  {
   "cell_type": "code",
   "execution_count": 4,
   "id": "873907c9",
   "metadata": {},
   "outputs": [],
   "source": [
    "import nltk\n",
    "from nltk.stem import PorterStemmer\n",
    "from nltk.stem import LancasterStemmer\n",
    "from nltk.stem import SnowballStemmer\n",
    "from nltk.tokenize import word_tokenize\n",
    "\n",
    "pst = PorterStemmer()\n",
    "lst = LancasterStemmer()\n",
    "sbst = SnowballStemmer('english')"
   ]
  },
  {
   "cell_type": "code",
   "execution_count": 6,
   "id": "0d3d9d87",
   "metadata": {},
   "outputs": [],
   "source": [
    "wordstostem = ['give', 'giving', 'given', 'gave']"
   ]
  },
  {
   "cell_type": "code",
   "execution_count": 7,
   "id": "210ceeef",
   "metadata": {},
   "outputs": [
    {
     "name": "stdout",
     "output_type": "stream",
     "text": [
      "give : give\n",
      "giving : give\n",
      "given : given\n",
      "gave : gave\n"
     ]
    }
   ],
   "source": [
    "for word in wordstostem:\n",
    "    print(word + \" : \" + pst.stem(word))"
   ]
  },
  {
   "cell_type": "code",
   "execution_count": 16,
   "id": "0644f9f0",
   "metadata": {},
   "outputs": [
    {
     "name": "stdout",
     "output_type": "stream",
     "text": [
      "give : giv\n",
      "giving : giv\n",
      "given : giv\n",
      "gave : gav\n"
     ]
    }
   ],
   "source": [
    "for word in wordstostem:\n",
    "    print(word + \" : \" + lst.stem(word))"
   ]
  },
  {
   "cell_type": "code",
   "execution_count": 17,
   "id": "a4615fbb",
   "metadata": {},
   "outputs": [
    {
     "name": "stdout",
     "output_type": "stream",
     "text": [
      "give : give\n",
      "giving : give\n",
      "given : given\n",
      "gave : gave\n"
     ]
    }
   ],
   "source": [
    "for word in wordstostem:\n",
    "    print(word + \" : \" + sbst.stem(word))"
   ]
  },
  {
   "cell_type": "code",
   "execution_count": 8,
   "id": "5773d0a2",
   "metadata": {},
   "outputs": [
    {
     "name": "stdout",
     "output_type": "stream",
     "text": [
      "give : give\n",
      "giving : giving\n",
      "given : given\n",
      "gave : gave\n"
     ]
    }
   ],
   "source": [
    "from nltk.stem import wordnet\n",
    "from nltk.stem import WordNetLemmatizer\n",
    "word_lem = WordNetLemmatizer()\n",
    "\n",
    "for word in wordstostem:\n",
    "    print(word + \" : \" + word_lem.lemmatize(word))"
   ]
  },
  {
   "cell_type": "code",
   "execution_count": 3,
   "id": "3dbac702",
   "metadata": {},
   "outputs": [
    {
     "name": "stdout",
     "output_type": "stream",
     "text": [
      " This Sam. Sam king\n"
     ]
    }
   ],
   "source": [
    "from nltk.corpus import stopwords\n",
    "\n",
    "stopwords.words('english')\n",
    "\n",
    "str1 = \"This is Sam. Sam is king\"\n",
    "\n",
    "str2 = \"\"\n",
    "\n",
    "for i in str1.split():\n",
    "    if i not in stopwords.words('english'):\n",
    "        str2 = str2 + \" \" + i\n",
    "\n",
    "print(str2)"
   ]
  },
  {
   "cell_type": "code",
   "execution_count": 37,
   "id": "f7d576db",
   "metadata": {},
   "outputs": [
    {
     "data": {
      "text/plain": [
       "[('This', 'DT'),\n",
       " ('is', 'VBZ'),\n",
       " ('Sam', 'NNP'),\n",
       " ('.', '.'),\n",
       " ('Sam', 'NNP'),\n",
       " ('is', 'VBZ'),\n",
       " ('king', 'VBG')]"
      ]
     },
     "execution_count": 37,
     "metadata": {},
     "output_type": "execute_result"
    }
   ],
   "source": [
    "str1t = word_tokenize(str1)\n",
    "nltk.pos_tag(str1t)"
   ]
  },
  {
   "cell_type": "code",
   "execution_count": 9,
   "id": "e1fd38fb",
   "metadata": {},
   "outputs": [
    {
     "name": "stdout",
     "output_type": "stream",
     "text": [
      "['This', 'Sam.', 'Sam', 'king']\n"
     ]
    }
   ],
   "source": [
    "from nltk.corpus import stopwords\n",
    "words = stopwords.words('english')\n",
    "l1 = []\n",
    "for i in str1.split():\n",
    "    if i not in words:\n",
    "        l1.append(i)\n",
    "print(l1)"
   ]
  },
  {
   "cell_type": "code",
   "execution_count": null,
   "id": "a156b16a",
   "metadata": {},
   "outputs": [],
   "source": []
  }
 ],
 "metadata": {
  "kernelspec": {
   "display_name": "Python 3 (ipykernel)",
   "language": "python",
   "name": "python3"
  },
  "language_info": {
   "codemirror_mode": {
    "name": "ipython",
    "version": 3
   },
   "file_extension": ".py",
   "mimetype": "text/x-python",
   "name": "python",
   "nbconvert_exporter": "python",
   "pygments_lexer": "ipython3",
   "version": "3.9.13"
  }
 },
 "nbformat": 4,
 "nbformat_minor": 5
}
